{
 "cells": [
  {
   "cell_type": "markdown",
   "metadata": {},
   "source": [
    "## Maximum sum path in a matrix from top-left to bottom-right\n"
   ]
  },
  {
   "cell_type": "code",
   "execution_count": 2,
   "metadata": {},
   "outputs": [
    {
     "name": "stdout",
     "output_type": "stream",
     "text": [
      "29\n"
     ]
    }
   ],
   "source": [
    "grid  = [[1,2,3],[4,5,6],[7,8,9]]\n",
    "\n",
    "def MaximumPath(grid):\n",
    " \n",
    "    # Dimensions of grid[][]\n",
    "    N = len(grid)\n",
    "    M = len(grid[0])\n",
    " \n",
    "    # Stores maximum sum at each cell sum[i][j] from cell sum[0][0]\n",
    "    sum = [[0 for i in range(M + 1)]\n",
    "              for i in range(N + 1)]\n",
    " \n",
    "    # Iterate to compute the maximum sum path in the grid\n",
    "    for i in range(1, N + 1):\n",
    "        for j in range(1, M + 1):\n",
    " \n",
    "            # Update the maximum path sum\n",
    "            sum[i][j] = (max(sum[i - 1][j],\n",
    "                             sum[i][j - 1]) +\n",
    "                        grid[i - 1][j - 1])\n",
    " \n",
    "    # Return the maximum sum\n",
    "    return sum[N][M]\n",
    "print(MaximumPath(grid))\n"
   ]
  },
  {
   "cell_type": "code",
   "execution_count": null,
   "metadata": {},
   "outputs": [],
   "source": []
  }
 ],
 "metadata": {
  "kernelspec": {
   "display_name": "Python 3",
   "language": "python",
   "name": "python3"
  },
  "language_info": {
   "codemirror_mode": {
    "name": "ipython",
    "version": 3
   },
   "file_extension": ".py",
   "mimetype": "text/x-python",
   "name": "python",
   "nbconvert_exporter": "python",
   "pygments_lexer": "ipython3",
   "version": "3.7.6"
  }
 },
 "nbformat": 4,
 "nbformat_minor": 4
}
